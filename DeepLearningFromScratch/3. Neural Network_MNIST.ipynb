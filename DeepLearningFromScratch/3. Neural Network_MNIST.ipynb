{
 "cells": [
  {
   "cell_type": "code",
   "execution_count": 11,
   "metadata": {},
   "outputs": [
    {
     "name": "stdout",
     "output_type": "stream",
     "text": [
      "Downloading train-images-idx3-ubyte.gz ... \n",
      "Done\n",
      "Downloading train-labels-idx1-ubyte.gz ... \n",
      "Done\n",
      "Downloading t10k-images-idx3-ubyte.gz ... \n",
      "Done\n",
      "Downloading t10k-labels-idx1-ubyte.gz ... \n",
      "Done\n",
      "Converting train-images-idx3-ubyte.gz to NumPy Array ...\n",
      "Done\n",
      "Converting train-labels-idx1-ubyte.gz to NumPy Array ...\n",
      "Done\n",
      "Converting t10k-images-idx3-ubyte.gz to NumPy Array ...\n",
      "Done\n",
      "Converting t10k-labels-idx1-ubyte.gz to NumPy Array ...\n",
      "Done\n",
      "Creating pickle file ...\n",
      "Done!\n"
     ]
    }
   ],
   "source": [
    "# Downloading MNIST Traing Data\n",
    "\n",
    "import sys, os\n",
    "sys.path.append(os.pardir) \n",
    "from DeepLearningFromScratch.mnist import load_mnist\n",
    "\n",
    "(x_train, t_train), (x_test, t_test) = load_mnist(flatten=True, normalize=False)"
   ]
  },
  {
   "cell_type": "markdown",
   "metadata": {},
   "source": [
    "## 손글씨 숫자 인식\n",
    "### MNIST 데이터셋\n",
    "- 0~9 사이의 숫자 이미지\n",
    "- Train Data : 6,000장\n",
    "- Test Data : 10,000장\n",
    "- 이미지 데이터 : 28 x 28\n",
    "- 각 픽셀 : 0~255"
   ]
  },
  {
   "cell_type": "markdown",
   "metadata": {},
   "source": [
    "## 인수\n",
    "\n",
    "1. Normalize : 픽셀값 0.0 ~ 1.0 으로 정규화\n",
    "2. Flatten : 입력 이미지를 1차원으로\n",
    "3. One_hot_label"
   ]
  },
  {
   "cell_type": "code",
   "execution_count": 5,
   "metadata": {},
   "outputs": [
    {
     "name": "stdout",
     "output_type": "stream",
     "text": [
      "5\n",
      "(784,)\n",
      "(28, 28)\n"
     ]
    }
   ],
   "source": [
    "# MNIST Image - Loading\n",
    "\n",
    "import sys,os\n",
    "sys.path.append(os.pardir)\n",
    "import numpy as np\n",
    "from DeepLearningFromScratch.mnist import load_mnist\n",
    "from matplotlib.pyplot import imshow\n",
    "from PIL import Image # PIL : Pyhton Image Library\n",
    "\n",
    "def img_show(img) :\n",
    "    pil_img = Image.fromarray(np.uint8(img)) # numpy array to PIL Data type\n",
    "    pil_img.show()\n",
    "    \n",
    "(x_train,t_train),(x_test,t_test) = load_mnist(flatten = True, normalize = False) # Flatten : 1 Dim numpy Array\n",
    "\n",
    "img = x_train[0]\n",
    "label = t_train[0]\n",
    "\n",
    "print(label)\n",
    "\n",
    "print(img.shape)\n",
    "img = img.reshape(28, 28)\n",
    "print(img.shape)\n",
    "\n",
    "%matplotlib inline\n",
    "img_show(img)"
   ]
  },
  {
   "cell_type": "code",
   "execution_count": 6,
   "metadata": {},
   "outputs": [
    {
     "data": {
      "text/plain": [
       "(28, 28)"
      ]
     },
     "execution_count": 6,
     "metadata": {},
     "output_type": "execute_result"
    }
   ],
   "source": [
    "# MNIST Image - Reshape\n",
    "\n",
    "img = img.reshape(28,28) # Original Shape\n",
    "img.shape"
   ]
  },
  {
   "cell_type": "markdown",
   "metadata": {},
   "source": [
    "## 신경망의 추론 처리\n",
    "- 입력층 뉴런 : 784 개 (이미지 크기 : 28 x 28 = 784)\n",
    "- 출력층 뉴런 : 10개 (0 ~ 9의 숫자)\n",
    "- 은닉1층 뉴런 : 50개 (임의)\n",
    "- 은닉2층 뉴런 : 100개 (임의)"
   ]
  },
  {
   "cell_type": "code",
   "execution_count": 7,
   "metadata": {},
   "outputs": [],
   "source": [
    "# MNIST Image - Setting Function\n",
    "\n",
    "\n",
    "import pickle\n",
    "\n",
    "\n",
    "# Sigmoid Function\n",
    "def sigmoid(x):\n",
    "    return 1/(1 + np.exp(-x))\n",
    "\n",
    "# Softmax Function\n",
    "def softmax(a):\n",
    "    c = np.max(a)\n",
    "    exp_a = np.exp(a-c)\n",
    "    sum_exp_a = np.sum(exp_a)\n",
    "    y = exp_a/sum_exp_a\n",
    "    return y\n",
    "\n",
    "\n",
    "def get_data():\n",
    "    (x_train,t_train),(x_test,t_test) = load_mnist(normalize = True, flatten = True, one_hot_label = False)\n",
    "    return x_test, t_test\n",
    "\n",
    "\n",
    "# initiate pickle file\n",
    "def init_network():\n",
    "    with open(\"sample_weight.pkl\", 'rb') as f:\n",
    "        network = pickle.load(f)\n",
    "    return network\n",
    "\n",
    "\n",
    "def predict(network,x):\n",
    "    W1, W2, W3 = network['W1'], network['W2'], network['W3']\n",
    "    b1, b2, b3 = network['b1'], network['b2'], network['b3']\n",
    "\n",
    "    a1 = np.dot(x, W1) + b1\n",
    "    z1 = sigmoid(a1)\n",
    "    a2 = np.dot(z1, W2) + b2\n",
    "    z2 = sigmoid(a2)\n",
    "    a3 = np.dot(z2, W3) + b3\n",
    "    y = softmax(a3)\n",
    "    \n",
    "    return y"
   ]
  },
  {
   "cell_type": "code",
   "execution_count": 8,
   "metadata": {},
   "outputs": [
    {
     "name": "stdout",
     "output_type": "stream",
     "text": [
      "Accuracy : 0.9352\n"
     ]
    }
   ],
   "source": [
    "# MNIST Image - Accuracy\n",
    "\n",
    "x,t = get_data()\n",
    "network = init_network()\n",
    "\n",
    "accuracy_cnt = 0                   \n",
    "for i in range(len(x)):            # Probability into Numpy Array\n",
    "    y = predict(network,x[i])      # Return in Numpy Array\n",
    "    p = np.argmax(y)               # Result\n",
    "    if p == t[i]:                  # Comparison x & t\n",
    "        accuracy_cnt += 1\n",
    "    \n",
    "print(\"Accuracy : \" + str(float(accuracy_cnt)/len(x)))"
   ]
  },
  {
   "cell_type": "markdown",
   "metadata": {},
   "source": [
    "## 배치 처리\n",
    "\n",
    "- 배치 : 하나로 묶은 입력 데이터 \n",
    "- 이미지가 지폐의 다발 처럼 있음\n",
    "- 이미지 1장당 처리 시간 줄여줌 (버스에 주는 부하 줄임)\n",
    "- 큰 배열 계산 수월\n",
    "\n",
    "### 예시\n",
    "- 784  * (784 x 50) * (50 x 100) * (100 x 10)"
   ]
  },
  {
   "cell_type": "code",
   "execution_count": 11,
   "metadata": {},
   "outputs": [
    {
     "data": {
      "text/plain": [
       "(10000, 784)"
      ]
     },
     "execution_count": 11,
     "metadata": {},
     "output_type": "execute_result"
    }
   ],
   "source": [
    "# Batch Preprocessing - X shape\n",
    "\n",
    "x,_ = get_data()\n",
    "network = init_network()\n",
    "W1, W2, W3 = network['W1'], network['W2'], network['W3']\n",
    "x.shape"
   ]
  },
  {
   "cell_type": "code",
   "execution_count": 13,
   "metadata": {},
   "outputs": [
    {
     "data": {
      "text/plain": [
       "(784,)"
      ]
     },
     "execution_count": 13,
     "metadata": {},
     "output_type": "execute_result"
    }
   ],
   "source": [
    "# Batch Preprocessing - X[0] shape\n",
    "\n",
    "x[0].shape"
   ]
  },
  {
   "cell_type": "code",
   "execution_count": 14,
   "metadata": {},
   "outputs": [
    {
     "data": {
      "text/plain": [
       "(784, 50)"
      ]
     },
     "execution_count": 14,
     "metadata": {},
     "output_type": "execute_result"
    }
   ],
   "source": [
    "# Batch Preprocessing - W1 shape\n",
    "\n",
    "W1.shape"
   ]
  },
  {
   "cell_type": "code",
   "execution_count": 15,
   "metadata": {},
   "outputs": [
    {
     "data": {
      "text/plain": [
       "(50, 100)"
      ]
     },
     "execution_count": 15,
     "metadata": {},
     "output_type": "execute_result"
    }
   ],
   "source": [
    "# Batch Preprocessing - W2 shape\n",
    "\n",
    "W2.shape"
   ]
  },
  {
   "cell_type": "code",
   "execution_count": 16,
   "metadata": {},
   "outputs": [
    {
     "data": {
      "text/plain": [
       "(100, 10)"
      ]
     },
     "execution_count": 16,
     "metadata": {},
     "output_type": "execute_result"
    }
   ],
   "source": [
    "# Batch Preprocessing - W3 shape\n",
    "\n",
    "W3.shape"
   ]
  },
  {
   "cell_type": "markdown",
   "metadata": {},
   "source": [
    "## 배치 처리 크기 설정"
   ]
  },
  {
   "cell_type": "code",
   "execution_count": 18,
   "metadata": {},
   "outputs": [
    {
     "name": "stdout",
     "output_type": "stream",
     "text": [
      "Accuracy : 0.9352\n"
     ]
    }
   ],
   "source": [
    "# Batch Preprocessing - Including Batch Size\n",
    "\n",
    "x,t = get_data()\n",
    "network = init_network()\n",
    "\n",
    "batch_size = 100          # batch size\n",
    "\n",
    "accuracy_cnt = 0                   \n",
    "for i in range(0, len(x), batch_size):            \n",
    "    x_batch = x[i:i+batch_size]\n",
    "    y_batch = predict(network,x_batch)\n",
    "    p = np.argmax(y_batch, axis = 1)\n",
    "    accuracy_cnt += np.sum(p == t[i:i+batch_size])\n",
    "    \n",
    "print(\"Accuracy : \" + str(float(accuracy_cnt)/len(x)))"
   ]
  },
  {
   "cell_type": "code",
   "execution_count": 20,
   "metadata": {},
   "outputs": [
    {
     "data": {
      "text/plain": [
       "[0, 1, 2, 3, 4, 5, 6, 7, 8, 9]"
      ]
     },
     "execution_count": 20,
     "metadata": {},
     "output_type": "execute_result"
    }
   ],
   "source": [
    "# Batch Preprocessing - Range Reference 1\n",
    "list(range(0,10))"
   ]
  },
  {
   "cell_type": "code",
   "execution_count": 22,
   "metadata": {},
   "outputs": [
    {
     "data": {
      "text/plain": [
       "[0, 3, 6, 9]"
      ]
     },
     "execution_count": 22,
     "metadata": {},
     "output_type": "execute_result"
    }
   ],
   "source": [
    "# Batch Preprocessing - Range Reference 2\n",
    "list(range(0,10,3))"
   ]
  },
  {
   "cell_type": "code",
   "execution_count": 26,
   "metadata": {},
   "outputs": [
    {
     "data": {
      "text/plain": [
       "array([1, 2, 1, 0], dtype=int64)"
      ]
     },
     "execution_count": 26,
     "metadata": {},
     "output_type": "execute_result"
    }
   ],
   "source": [
    "# Batch Preprocessing - Argmax Reference \n",
    "x = np.array([[0.1,0.8,0.1],[0.3,0.1,0.6],[0.2,0.5,0.3],[0.8,0.1,0.1]])\n",
    "y = np.argmax(x,axis = 1) # MAX Index (Value X)\n",
    "y"
   ]
  }
 ],
 "metadata": {
  "kernelspec": {
   "display_name": "Python 3",
   "language": "python",
   "name": "python3"
  },
  "language_info": {
   "codemirror_mode": {
    "name": "ipython",
    "version": 3
   },
   "file_extension": ".py",
   "mimetype": "text/x-python",
   "name": "python",
   "nbconvert_exporter": "python",
   "pygments_lexer": "ipython3",
   "version": "3.6.8"
  }
 },
 "nbformat": 4,
 "nbformat_minor": 2
}
