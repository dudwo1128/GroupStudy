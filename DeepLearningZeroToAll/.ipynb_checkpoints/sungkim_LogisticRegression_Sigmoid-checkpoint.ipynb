{
 "cells": [
  {
   "cell_type": "code",
   "execution_count": 2,
   "metadata": {},
   "outputs": [
    {
     "name": "stdout",
     "output_type": "stream",
     "text": [
      "(759, 8) (759, 1)\n"
     ]
    }
   ],
   "source": [
    "import tensorflow as tf\n",
    "import numpy as np\n",
    "tf.set_random_seed(777)\n",
    "\n",
    "xy = np.loadtxt('data-03-diabetes.csv',delimiter=',',dtype=np.float32)\n",
    "x_data = xy[:,0:-1]\n",
    "y_data = xy[:,[-1]]\n",
    "\n",
    "print(x_data.shape,y_data.shape)"
   ]
  },
  {
   "cell_type": "code",
   "execution_count": 4,
   "metadata": {},
   "outputs": [],
   "source": [
    "X=tf.placeholder(tf.float32, shape=[None,8])\n",
    "Y=tf.placeholder(tf.float32, shape=[None,1])\n",
    "\n",
    "W=tf.Variable(tf.random_normal([8,1]),name='weight')\n",
    "b=tf.Variable(tf.random_normal([1]),name='bias')"
   ]
  },
  {
   "cell_type": "code",
   "execution_count": 5,
   "metadata": {},
   "outputs": [],
   "source": [
    "hypothesis = tf.sigmoid(tf.matmul(X,W)+b)\n",
    "cost = -tf.reduce_mean(Y*tf.log(hypothesis)+(1-Y)*tf.log(1-hypothesis))\n",
    "train = tf.train.GradientDescentOptimizer(learning_rate=0.01).minimize(cost)"
   ]
  },
  {
   "cell_type": "code",
   "execution_count": 6,
   "metadata": {},
   "outputs": [
    {
     "name": "stdout",
     "output_type": "stream",
     "text": [
      "0 0.77440894\n",
      "1000 0.64232516\n",
      "2000 0.59375006\n",
      "3000 0.5609378\n",
      "4000 0.5385944\n",
      "5000 0.5230462\n",
      "6000 0.5119433\n",
      "7000 0.503816\n",
      "8000 0.49773332\n",
      "9000 0.49309063\n",
      "10000 0.48948568\n",
      "11000 0.48664346\n",
      "12000 0.4843721\n",
      "13000 0.48253497\n",
      "14000 0.4810326\n",
      "15000 0.47979197\n",
      "16000 0.4787583\n",
      "17000 0.4778897\n",
      "18000 0.47715455\n",
      "19000 0.47652775\n",
      "20000 0.47599038\n",
      "21000 0.47552642\n",
      "22000 0.47512388\n",
      "23000 0.47477293\n",
      "24000 0.47446528\n",
      "25000 0.4741947\n",
      "26000 0.47395557\n",
      "27000 0.4737436\n",
      "28000 0.47355485\n",
      "29000 0.4733864\n",
      "30000 0.47323555\n",
      "31000 0.47310007\n",
      "32000 0.47297812\n",
      "33000 0.4728683\n",
      "34000 0.472769\n",
      "35000 0.4726788\n",
      "36000 0.47259703\n",
      "37000 0.47252277\n",
      "38000 0.47245508\n",
      "39000 0.47239324\n",
      "40000 0.47233695\n",
      "41000 0.47228533\n",
      "42000 0.47223812\n",
      "43000 0.47219482\n",
      "44000 0.47215515\n",
      "45000 0.47211868\n",
      "46000 0.47208506\n",
      "47000 0.4720543\n",
      "48000 0.47202566\n",
      "49000 0.47199962\n",
      "50000 0.47197554\n",
      "51000 0.4719532\n",
      "52000 0.4719327\n",
      "53000 0.47191358\n",
      "54000 0.47189605\n",
      "55000 0.47187987\n",
      "56000 0.47186476\n",
      "57000 0.47185084\n",
      "58000 0.47183806\n",
      "59000 0.47182605\n",
      "60000 0.47181508\n",
      "61000 0.47180477\n",
      "62000 0.47179535\n",
      "63000 0.4717866\n",
      "64000 0.47177842\n",
      "65000 0.47177085\n",
      "66000 0.47176388\n",
      "67000 0.4717572\n",
      "68000 0.47175112\n",
      "69000 0.47174558\n",
      "70000 0.47174034\n",
      "71000 0.4717355\n",
      "72000 0.47173107\n",
      "73000 0.47172678\n",
      "74000 0.47172287\n",
      "75000 0.47171918\n",
      "76000 0.47171593\n",
      "77000 0.47171274\n",
      "78000 0.47170988\n",
      "79000 0.47170714\n",
      "80000 0.47170466\n",
      "81000 0.47170228\n",
      "82000 0.47170016\n",
      "83000 0.4716981\n",
      "84000 0.4716962\n",
      "85000 0.47169444\n",
      "86000 0.47169283\n",
      "87000 0.47169128\n",
      "88000 0.47168997\n",
      "89000 0.47168857\n",
      "90000 0.47168738\n",
      "91000 0.47168615\n",
      "92000 0.47168514\n",
      "93000 0.4716841\n",
      "94000 0.47168326\n",
      "95000 0.47168237\n",
      "96000 0.4716815\n",
      "97000 0.47168082\n",
      "98000 0.47168013\n",
      "99000 0.47167948\n",
      "100000 0.47167897\n"
     ]
    }
   ],
   "source": [
    "with tf.Session() as sess:\n",
    "    sess.run(tf.global_variables_initializer())\n",
    "    \n",
    "    for step in range(100001):\n",
    "        cost_val,_ = sess.run([cost,train],feed_dict={X:x_data, Y:y_data})\n",
    "        if step % 1000 == 0:\n",
    "            print(step,cost_val)"
   ]
  }
 ],
 "metadata": {
  "kernelspec": {
   "display_name": "Python 3",
   "language": "python",
   "name": "python3"
  },
  "language_info": {
   "codemirror_mode": {
    "name": "ipython",
    "version": 3
   },
   "file_extension": ".py",
   "mimetype": "text/x-python",
   "name": "python",
   "nbconvert_exporter": "python",
   "pygments_lexer": "ipython3",
   "version": "3.6.8"
  }
 },
 "nbformat": 4,
 "nbformat_minor": 2
}
