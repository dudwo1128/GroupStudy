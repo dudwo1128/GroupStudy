{
 "cells": [
  {
   "cell_type": "code",
   "execution_count": 5,
   "metadata": {},
   "outputs": [],
   "source": [
    "from sklearn.neighbors import KNeighborsClassifier\n",
    "from sklearn.ensemble import RandomForestClassifier\n",
    "import numpy as np\n",
    "import pandas as pd\n",
    "train = pd.read_csv('C:/Users/dudwo/Desktop/ML/Data/titanic/train.csv')\n",
    "test = pd.read_csv('C:/Users/dudwo/Desktop/ML/Data/titanic/test.csv')\n",
    "train = train.drop(['Ticket','Cabin'],axis = 1) \n",
    "test = test.drop(['Ticket','Cabin'],axis = 1)   \n",
    "train = train.fillna({\"Embarked\" : \"S\"})\n",
    "embarked_mapping = {\"S\":1,\"C\":2,\"Q\":3}\n",
    "train[\"Embarked\"] = train[\"Embarked\"].map(embarked_mapping)\n",
    "test[\"Embarked\"] = test[\"Embarked\"].map(embarked_mapping)\n",
    "combine = [train, test]\n",
    "for dataset in combine:\n",
    "    dataset['Title'] = dataset.Name.str.extract(' ([A-Za-z]+)\\.',expand= False)\n",
    "for dataset in combine:\n",
    "    dataset['Title'] = dataset['Title'].replace(\n",
    "        ['Lady', 'Capt', 'Col', 'Don', 'Dr', 'Major', 'Rev', 'Jonkheer', 'Dona'], 'Rare')\n",
    "    dataset['Title'] = dataset['Title'].replace(['Countess', 'Lady', 'Sir'], 'Royal')\n",
    "    dataset['Title'] = dataset['Title'].replace('Mile', 'Miss')\n",
    "    dataset['Title'] = dataset['Title'].replace('Ms', 'Miss')\n",
    "    dataset['Title'] = dataset['Title'].replace('Mme', 'Mrs')\n",
    "title_mapping = {\"Mr\":1,\"Miss\":2,\"Mrs\":3,\"Master\":4,\"Royal\":5,\"Rare\":6}\n",
    "for dataset in combine:\n",
    "    dataset['Title'] = dataset['Title'].map(title_mapping)\n",
    "    dataset['Title'] = dataset['Title'].fillna(0)\n",
    "train = train.drop(['Name','PassengerId'],axis =1)\n",
    "test = test.drop(['Name','PassengerId'],axis =1)\n",
    "combine = [train,test]\n",
    "sex_mapping = {\"male\":0,\"female\":1}\n",
    "for dataset in combine :\n",
    "    dataset['Sex'] = dataset[\"Sex\"].map(sex_mapping)\n",
    "train['Age'] = train['Age'].fillna(-0.5)\n",
    "test['Age'] = test['Age'].fillna(-0.5)\n",
    "bins = [-1, 0, 5, 12, 18, 24, 35, 60, np.inf]\n",
    "labels = ['Unknown','Baby','Child','Teenager','Student','Young Adult','Adult','Senior']\n",
    "train['AgeGroup'] = pd.cut(train[\"Age\"],bins, labels= labels)\n",
    "test['AgeGroup'] = pd.cut(test[\"Age\"],bins, labels=labels)\n",
    "age_title_mapping = {1:\"Young Adult\",2:\"Student\",3:\"Adult\",4:\"Baby\",5:\"Adult\",6:\"Adult\",}\n",
    "for x in range(len(train[\"AgeGroup\"])):\n",
    "    if train[\"AgeGroup\"][x] == \"Unknown\" :\n",
    "        train[\"AgeGroup\"][x] = age_title_mapping[train[\"Title\"][x]]\n",
    "for x in range(len(test[\"AgeGroup\"])):\n",
    "    if test[\"AgeGroup\"][x] == \"Unknown\" :\n",
    "        test[\"AgeGroup\"][x] = age_title_mapping[test[\"Title\"][x]]\n",
    "age_mappaing = {\"Baby\":1,\"Child\":2,\"Teenager\":3,\"Student\":4,\"Young Adult\":5,\"Adult\":6,\"Senior\":7}\n",
    "train['AgeGroup'] = train['AgeGroup'].map(age_mappaing)\n",
    "test['AgeGroup'] = test['AgeGroup'].map(age_mappaing)\n",
    "train = train.drop(['Age'],axis =1)\n",
    "test = test.drop(['Age'],axis =1)\n",
    "train['FareBand'] = pd.qcut(train['Fare'], 4, labels= [1,2,3,4])\n",
    "test['FareBand'] = pd.qcut(train['Fare'],4, labels=[1,2,3,4])\n",
    "train = train.drop(['Fare'],axis = 1)\n",
    "test = test.drop(['Fare'],axis=1)"
   ]
  },
  {
   "cell_type": "code",
   "execution_count": 6,
   "metadata": {},
   "outputs": [
    {
     "name": "stdout",
     "output_type": "stream",
     "text": [
      "<class 'pandas.core.frame.DataFrame'>\n",
      "RangeIndex: 891 entries, 0 to 890\n",
      "Data columns (total 8 columns):\n",
      "Pclass      891 non-null int64\n",
      "Sex         891 non-null int64\n",
      "SibSp       891 non-null int64\n",
      "Parch       891 non-null int64\n",
      "Embarked    891 non-null int64\n",
      "Title       891 non-null float64\n",
      "AgeGroup    891 non-null int64\n",
      "FareBand    891 non-null category\n",
      "dtypes: category(1), float64(1), int64(6)\n",
      "memory usage: 49.9 KB\n"
     ]
    }
   ],
   "source": [
    "train_data = train.drop('Survived', axis = 1)\n",
    "target = train['Survived']\n",
    "train_data.info()"
   ]
  },
  {
   "cell_type": "code",
   "execution_count": 8,
   "metadata": {},
   "outputs": [],
   "source": [
    "# Cross_Validation 실행\n",
    "\n",
    "from sklearn.model_selection import KFold\n",
    "k_fold = KFold(n_splits=10, shuffle=True, random_state=0)"
   ]
  },
  {
   "cell_type": "code",
   "execution_count": 11,
   "metadata": {},
   "outputs": [
    {
     "name": "stdout",
     "output_type": "stream",
     "text": [
      "RandomForestClassifier(bootstrap=True, class_weight=None, criterion='gini',\n",
      "            max_depth=None, max_features='auto', max_leaf_nodes=None,\n",
      "            min_impurity_decrease=0.0, min_impurity_split=None,\n",
      "            min_samples_leaf=1, min_samples_split=2,\n",
      "            min_weight_fraction_leaf=0.0, n_estimators=13, n_jobs=None,\n",
      "            oob_score=False, random_state=None, verbose=0,\n",
      "            warm_start=False)\n"
     ]
    }
   ],
   "source": [
    "# RandomForestClassifier 실행\n",
    "\n",
    "from sklearn.ensemble import RandomForestClassifier\n",
    "clf = RandomForestClassifier(n_estimators=13)\n",
    "print(clf)"
   ]
  },
  {
   "cell_type": "code",
   "execution_count": 13,
   "metadata": {},
   "outputs": [
    {
     "name": "stdout",
     "output_type": "stream",
     "text": [
      "[0.8        0.72413793 0.66666667 0.71428571 0.72727273 0.73333333\n",
      " 0.79452055 0.73015873 0.72972973 0.76315789]\n"
     ]
    }
   ],
   "source": [
    "# Cross_val_score 점수\n",
    "# f1 Scoring\n",
    "\n",
    "from sklearn.model_selection import cross_val_score\n",
    "scoring = 'f1'\n",
    "score = cross_val_score(clf,train_data,target,cv=k_fold,n_jobs=1,scoring=scoring)\n",
    "print(score)"
   ]
  },
  {
   "cell_type": "code",
   "execution_count": 14,
   "metadata": {},
   "outputs": [
    {
     "name": "stdout",
     "output_type": "stream",
     "text": [
      "[0.82222222 0.86516854 0.78651685 0.78651685 0.86516854 0.82022472\n",
      " 0.82022472 0.84269663 0.79775281 0.80898876]\n"
     ]
    }
   ],
   "source": [
    "# accuracy Scoring\n",
    "\n",
    "from sklearn.model_selection import cross_val_score\n",
    "scoring = 'accuracy'\n",
    "score = cross_val_score(clf,train_data,target,cv=k_fold,n_jobs=1,scoring=scoring)\n",
    "print(score)"
   ]
  },
  {
   "cell_type": "code",
   "execution_count": 15,
   "metadata": {},
   "outputs": [
    {
     "name": "stdout",
     "output_type": "stream",
     "text": [
      "[0.82051282 0.66666667 0.67741935 0.69444444 0.7037037  0.70967742\n",
      " 0.80555556 0.70967742 0.71794872 0.73809524]\n"
     ]
    }
   ],
   "source": [
    "# recall Scoring\n",
    "\n",
    "from sklearn.model_selection import cross_val_score\n",
    "scoring = 'recall'\n",
    "score = cross_val_score(clf,train_data,target,cv=k_fold,n_jobs=1,scoring=scoring)\n",
    "print(score)"
   ]
  },
  {
   "cell_type": "code",
   "execution_count": 16,
   "metadata": {},
   "outputs": [
    {
     "name": "stdout",
     "output_type": "stream",
     "text": [
      "[0.74358974 0.77777778 0.67857143 0.77419355 0.75       0.79310345\n",
      " 0.78378378 0.77419355 0.875      0.86111111]\n"
     ]
    }
   ],
   "source": [
    "# precision Scoring\n",
    "\n",
    "from sklearn.model_selection import cross_val_score\n",
    "scoring = 'precision'\n",
    "score = cross_val_score(clf,train_data,target,cv=k_fold,n_jobs=1,scoring=scoring)\n",
    "print(score)"
   ]
  }
 ],
 "metadata": {
  "kernelspec": {
   "display_name": "Python 3",
   "language": "python",
   "name": "python3"
  },
  "language_info": {
   "codemirror_mode": {
    "name": "ipython",
    "version": 3
   },
   "file_extension": ".py",
   "mimetype": "text/x-python",
   "name": "python",
   "nbconvert_exporter": "python",
   "pygments_lexer": "ipython3",
   "version": "3.6.8"
  }
 },
 "nbformat": 4,
 "nbformat_minor": 2
}
