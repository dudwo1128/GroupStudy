{
 "cells": [
  {
   "cell_type": "markdown",
   "metadata": {},
   "source": [
    "## Machine Learning\n",
    "- Learn from data\n",
    "- Goal : Generalize\n",
    "- Example : Spam Filtering\n",
    "- Arthur Samuel : \"Machine Learning is the study that gives computers the ability to learn without being explicitly programmed.\""
   ]
  },
  {
   "cell_type": "markdown",
   "metadata": {},
   "source": [
    "## Learning from experience\n",
    "### Supervised learning\n",
    "- Learning from pairs of labled inputs and outputs\n",
    "- Right answers\n",
    "- Learns from labeled examples of outputs\n",
    "\n",
    "### Unsuperviesd learning\n",
    "- Discover patterns\n",
    "\n",
    "### Semi-supervised learning\n",
    "- Make use of both supervised and unsupervised data\n",
    "- Example : Reinforcement Learning\n",
    "\n",
    "### Keywords\n",
    "- Output = Response variable\n",
    "- Input = Features\n",
    "\n",
    "- Training set = Collection of examples that comprise superviesd experience\n",
    "- Test set = Collection of examples that is used to assess the performance"
   ]
  },
  {
   "cell_type": "markdown",
   "metadata": {},
   "source": [
    "## Machine Learning Tasks\n",
    "### Supervised Machine Learning\n",
    "1. Classification\n",
    "Learn to predict discrete values\n",
    "\n",
    "2. Regression\n",
    "Predict the value of a continuous response variable\n",
    "\n",
    "### Unsupervised Machine Learning\n",
    "1. Cluster\n",
    "Assigns observation to groups such that observations within groups are more similar to each other\n",
    "\n",
    "2. Dimensionality reduction\n",
    "- Process of discovering the explanatory variables that account for the greatest changes in the response variable\n",
    "- Thousands or even millions of explanatory variables"
   ]
  },
  {
   "cell_type": "markdown",
   "metadata": {},
   "source": [
    "## Training data and test data\n",
    "Training"
   ]
  }
 ],
 "metadata": {
  "kernelspec": {
   "display_name": "Python 3",
   "language": "python",
   "name": "python3"
  },
  "language_info": {
   "codemirror_mode": {
    "name": "ipython",
    "version": 3
   },
   "file_extension": ".py",
   "mimetype": "text/x-python",
   "name": "python",
   "nbconvert_exporter": "python",
   "pygments_lexer": "ipython3",
   "version": "3.7.1"
  }
 },
 "nbformat": 4,
 "nbformat_minor": 2
}
